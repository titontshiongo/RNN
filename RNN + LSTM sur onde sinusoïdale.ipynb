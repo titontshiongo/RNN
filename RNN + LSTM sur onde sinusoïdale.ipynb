{
 "cells": [
  {
   "cell_type": "markdown",
   "id": "4326b0a0",
   "metadata": {},
   "source": [
    "# Partie 1. RNN sur onde sinusoidale"
   ]
  },
  {
   "cell_type": "markdown",
   "id": "033fd6dd",
   "metadata": {},
   "source": [
    "Fonctionnement de l'entraînement et de l'évaluation du RNN:\n",
    "Pour une série de données temporelles on divise les données en train_set et test_set\n",
    "pas de fractionnement aléatoire comme fait souvent fractionnnement entraînement/test.\n",
    "Nous allons plutôt simulé ce qui est ce qu'il serait possible de prévoire dans les informations futures\n",
    "on fixera un point de coupure quelque part dans nos données d'entraînement pour spécifier une certaine gamme de données pour notre ensemble d'entraînement et une future gamme comme ensemble de test\n",
    "Pendant l'entraînement,évaler la performance sur base de l'ensemble de test.\n",
    "Au fur et mesure que nous entraînons, nous ferons des prévisions sur cette gamme pour voir visuellement l'entraînement\n",
    "Nous pouvons visualiser plutard pour voir et évaluer comment nous travaillons réellement et effectuons ces prévisions\n",
    "On espère donc obtenir quelque chose qui ressemble à une onde sinusoidale et qui nous montre en gros que nous avons un bon ajustement\n",
    "Une fois satisfait des résultats de cette partie du test, il sera temps de faire des prévisions dans un futur inconnu.\n",
    "Ce qui signifie qu'il faut entraîner de nouveau sur toutes les données disponibles (entraînement/test) et faire des prédictions au-delà de la porté des données d'origine.\n",
    "\n"
   ]
  },
  {
   "cell_type": "code",
   "execution_count": 1,
   "id": "603157b3",
   "metadata": {},
   "outputs": [],
   "source": [
    "# Importer les classes\n",
    "import pandas as pd\n",
    "import numpy as np\n",
    "import matplotlib.pyplot as plt\n",
    "import seaborn as sns"
   ]
  },
  {
   "cell_type": "code",
   "execution_count": 2,
   "id": "fc10b2a0",
   "metadata": {},
   "outputs": [],
   "source": [
    "# utilisation de numpy pour créer une onde sinusoidale\n",
    "X=np.linspace(0,50,501)"
   ]
  },
  {
   "cell_type": "code",
   "execution_count": 3,
   "id": "b1eb32f6",
   "metadata": {},
   "outputs": [],
   "source": [
    "y=np.sin(X)"
   ]
  },
  {
   "cell_type": "code",
   "execution_count": 4,
   "id": "ef90a7af",
   "metadata": {
    "scrolled": true
   },
   "outputs": [
    {
     "data": {
      "text/plain": [
       "[<matplotlib.lines.Line2D at 0x7f700ef621c0>]"
      ]
     },
     "execution_count": 4,
     "metadata": {},
     "output_type": "execute_result"
    },
    {
     "data": {
      "image/png": "[encoded data removed]",
      "text/plain": [
       "<Figure size 432x288 with 1 Axes>"
      ]
     },
     "metadata": {
      "needs_background": "light"
     },
     "output_type": "display_data"
    }
   ],
   "source": [
    "# tracage de l'onde sinusoidale de 0 à 50\n",
    "plt.plot(X,y)"
   ]
  },
  {
   "cell_type": "code",
   "execution_count": 5,
   "id": "12bf797c",
   "metadata": {},
   "outputs": [],
   "source": [
    "# Transformation de notre onde sinusoidale en dataframe\n",
    "df=pd.DataFrame(data=y,index=X,columns=['Sinus'])"
   ]
  },
  {
   "cell_type": "code",
   "execution_count": 6,
   "id": "a7dbb962",
   "metadata": {
    "collapsed": true
   },
   "outputs": [
    {
     "data": {
      "text/html": [
       "<div>\n",
       "<style scoped>\n",
       "    .dataframe tbody tr th:only-of-type {\n",
       "        vertical-align: middle;\n",
       "    }\n",
       "\n",
       "    .dataframe tbody tr th {\n",
       "        vertical-align: top;\n",
       "    }\n",
       "\n",
       "    .dataframe thead th {\n",
       "        text-align: right;\n",
       "    }\n",
       "</style>\n",
       "<table border=\"1\" class=\"dataframe\">\n",
       "  <thead>\n",
       "    <tr style=\"text-align: right;\">\n",
       "      <th></th>\n",
       "      <th>Sinus</th>\n",
       "    </tr>\n",
       "  </thead>\n",
       "  <tbody>\n",
       "    <tr>\n",
       "      <th>0.0</th>\n",
       "      <td>0.000000</td>\n",
       "    </tr>\n",
       "    <tr>\n",
       "      <th>0.1</th>\n",
       "      <td>0.099833</td>\n",
       "    </tr>\n",
       "    <tr>\n",
       "      <th>0.2</th>\n",
       "      <td>0.198669</td>\n",
       "    </tr>\n",
       "    <tr>\n",
       "      <th>0.3</th>\n",
       "      <td>0.295520</td>\n",
       "    </tr>\n",
       "    <tr>\n",
       "      <th>0.4</th>\n",
       "      <td>0.389418</td>\n",
       "    </tr>\n",
       "  </tbody>\n",
       "</table>\n",
       "</div>"
      ],
      "text/plain": [
       "        Sinus\n",
       "0.0  0.000000\n",
       "0.1  0.099833\n",
       "0.2  0.198669\n",
       "0.3  0.295520\n",
       "0.4  0.389418"
      ]
     },
     "execution_count": 6,
     "metadata": {},
     "output_type": "execute_result"
    }
   ],
   "source": [
    "df.head()"
   ]
  },
  {
   "cell_type": "code",
   "execution_count": 7,
   "id": "8a51c5f3",
   "metadata": {},
   "outputs": [
    {
     "data": {
      "text/plain": [
       "501"
      ]
     },
     "execution_count": 7,
     "metadata": {},
     "output_type": "execute_result"
    }
   ],
   "source": [
    "# repartition entraînement/Test\n",
    "# On va spécifier quel pourcentage de notre data_set qu'on va utiliser pour la gamme de données test\n",
    "# prendre en concidération l'objectif globale pour décider du pourcenatge de données qui représenteront le set de test \n",
    "len(df)"
   ]
  },
  {
   "cell_type": "code",
   "execution_count": 8,
   "id": "21be1d56",
   "metadata": {},
   "outputs": [],
   "source": [
    "# création d'une variable test_percent\n",
    "test_percent=0.1"
   ]
  },
  {
   "cell_type": "code",
   "execution_count": 9,
   "id": "dc5a670d",
   "metadata": {},
   "outputs": [
    {
     "data": {
      "text/plain": [
       "50.1"
      ]
     },
     "execution_count": 9,
     "metadata": {},
     "output_type": "execute_result"
    }
   ],
   "source": [
    "# Détermination du point de coupure\n",
    "# on prend la longueur du dataframe et on multiplie par le pourcentage \n",
    "# Ce qui donne que 10% de mes données correspondent à 50 points et trouver à quel index ils se trouvent dans le dataframe pour prendre\n",
    "# les 50 derniers points pour le set de test\n",
    "\n",
    "len(df)*test_percent"
   ]
  },
  {
   "cell_type": "code",
   "execution_count": 10,
   "id": "ccfd06b5",
   "metadata": {},
   "outputs": [],
   "source": [
    "#arrondir le résultat\n",
    "# notre point de coupure\n",
    "# l'index de test devrait être 50 en partant de la fin du dataframe\n",
    "test_point=np.round(len(df)*test_percent)"
   ]
  },
  {
   "cell_type": "code",
   "execution_count": 11,
   "id": "7045ac18",
   "metadata": {},
   "outputs": [],
   "source": [
    "# création d'une variable test_index\n",
    "# Point de coupure pour l'ensemble d'entraînement et de test \n",
    "test_index=int(len(df)- test_point)"
   ]
  },
  {
   "cell_type": "code",
   "execution_count": 12,
   "id": "b020edae",
   "metadata": {},
   "outputs": [],
   "source": [
    "train=df.iloc[:test_index]"
   ]
  },
  {
   "cell_type": "code",
   "execution_count": 13,
   "id": "65a637fc",
   "metadata": {},
   "outputs": [],
   "source": [
    "test=df.iloc[test_index:]"
   ]
  },
  {
   "cell_type": "code",
   "execution_count": 14,
   "id": "e08b5aa6",
   "metadata": {},
   "outputs": [
    {
     "data": {
      "text/plain": [
       "MinMaxScaler()"
      ]
     },
     "execution_count": 14,
     "metadata": {},
     "output_type": "execute_result"
    }
   ],
   "source": [
    "# Mise à l'échelle des données: un peu différent des ANN de part le fonctionnement particulier des RNN \n",
    "#qui s'alimentent avec ses sorties(output)\n",
    "# mettre à l'échelle y: variable cible car nous alimentons le réseau avec les sorties en retours\n",
    "from sklearn.preprocessing import MinMaxScaler\n",
    "scaler=MinMaxScaler()\n",
    "scaler.fit(train)\n"
   ]
  },
  {
   "cell_type": "code",
   "execution_count": 15,
   "id": "e8a9c9d5",
   "metadata": {},
   "outputs": [],
   "source": [
    "# Transformation des ensembles de données\n",
    "scaled_train=scaler.transform(train)# contient les index de X:index de temps et les y: les informations\n",
    "scaled_test=scaler.transform(test)"
   ]
  },
  {
   "cell_type": "markdown",
   "id": "dbb252a4",
   "metadata": {},
   "source": [
    "# Générateur de Batch\n",
    "prendre les données d'entrâinement pour créer des batchs ou lots pour la phase d'entraînement\n",
    "\n",
    "Paramètres ou arguments de TimeseriesGenerator:classe qui génère batch ou lot pour ses données de séquences. Il prend en entrer des données de séquences\n",
    "\n",
    "data:données X réel sur lesquelles on entraîne\n",
    "targets: ce sont les labels. data et targets seront identiques pcq on a des données d'info time series. on passera la même source qui sera les données d'entraînement mis à l'échelle\n",
    "length: Taille ou longeur de la séquence de sortie càd le nombre de pas temporel ou unité de temps. ne dois pas être choisi arbitrairement, cela doit être suffisant pour prendre en compte les effets de saisonnalité ou tout autre effet de répétition Plus la valeur du paramètre length est élevée plus l'entraînement sera long\n",
    "batch_size:nombre d'échantillon de série temporelle par Batch ou lot"
   ]
  },
  {
   "cell_type": "code",
   "execution_count": 16,
   "id": "c732aa4a",
   "metadata": {
    "collapsed": true
   },
   "outputs": [
    {
     "name": "stderr",
     "output_type": "stream",
     "text": [
      "2022-04-21 13:42:48.565548: W tensorflow/stream_executor/platform/default/dso_loader.cc:64] Could not load dynamic library 'libcudart.so.11.0'; dlerror: libcudart.so.11.0: cannot open shared object file: No such file or directory\n",
      "2022-04-21 13:42:48.565572: I tensorflow/stream_executor/cuda/cudart_stub.cc:29] Ignore above cudart dlerror if you do not have a GPU set up on your machine.\n"
     ]
    }
   ],
   "source": [
    "from tensorflow.keras.preprocessing.sequence import TimeseriesGenerator"
   ]
  },
  {
   "cell_type": "code",
   "execution_count": 17,
   "id": "64fc0f46",
   "metadata": {},
   "outputs": [],
   "source": [
    "# création de quelques variables \n",
    "# length ne dois pas être choisi arbitrairement, cela doit être suffisant pour prendre en compte les effets de saisonnalité ou tout autre effet de répétition\n",
    "# length=25 cela alimente mon generator avec 25 points de données et demande au modèle de prédire la 26ème valeur\n",
    "length=25\n",
    "batch_size=1\n",
    "\n",
    "# création du generator\n",
    "generator=TimeseriesGenerator(scaled_train,scaled_train,length=length,batch_size=batch_size)"
   ]
  },
  {
   "cell_type": "code",
   "execution_count": 18,
   "id": "0d1a97ff",
   "metadata": {},
   "outputs": [
    {
     "data": {
      "text/plain": [
       "451"
      ]
     },
     "execution_count": 18,
     "metadata": {},
     "output_type": "execute_result"
    }
   ],
   "source": [
    "# essayer de tester les paramètres :length/batch_size pour s'assurer ce que font ces paramètres exactement\n",
    "# regardons la taille scaled_train\n",
    "len(scaled_train)\n",
    "# nos données d'entraînement ont 451 points de données "
   ]
  },
  {
   "cell_type": "code",
   "execution_count": 19,
   "id": "4e03cb9e",
   "metadata": {},
   "outputs": [
    {
     "data": {
      "text/plain": [
       "426"
      ]
     },
     "execution_count": 19,
     "metadata": {},
     "output_type": "execute_result"
    }
   ],
   "source": [
    "# regardons maintenant la taille de notre objet generator: qui génère des lots ou batch pour nous\n",
    "# la taille de notre generator est 449-2(valeur de length)\n",
    "len(generator)"
   ]
  },
  {
   "cell_type": "code",
   "execution_count": 20,
   "id": "3384efb2",
   "metadata": {},
   "outputs": [],
   "source": [
    "# exploration du premier batch: index 0\n",
    "# on va faire une petite décomposition en tuple car il retourne à la fois X et le y qui doit être prédit à partir de X\n",
    "# il s'agit du tout premier batch généré à partir de cet objet de generateur de time series\n",
    "# on obteint 4 points de données pour notre générateur\n",
    "X,y=generator[0]"
   ]
  },
  {
   "cell_type": "code",
   "execution_count": 21,
   "id": "c92bb23b",
   "metadata": {
    "collapsed": true
   },
   "outputs": [
    {
     "data": {
      "text/plain": [
       "array([[[0.49999912],\n",
       "        [0.54991622],\n",
       "        [0.59933458],\n",
       "        [0.64776041],\n",
       "        [0.69470985],\n",
       "        [0.73971381],\n",
       "        [0.78232262],\n",
       "        [0.82211054],\n",
       "        [0.85868004],\n",
       "        [0.89166571],\n",
       "        [0.92073798],\n",
       "        [0.94560637],\n",
       "        [0.9660224 ],\n",
       "        [0.98178208],\n",
       "        [0.99272794],\n",
       "        [0.99875061],\n",
       "        [0.99978993],\n",
       "        [0.9958355 ],\n",
       "        [0.98692684],\n",
       "        [0.97315296],\n",
       "        [0.95465148],\n",
       "        [0.93160726],\n",
       "        [0.90425056],\n",
       "        [0.87285471],\n",
       "        [0.83773342]]])"
      ]
     },
     "execution_count": 21,
     "metadata": {},
     "output_type": "execute_result"
    }
   ],
   "source": [
    "X"
   ]
  },
  {
   "cell_type": "code",
   "execution_count": 22,
   "id": "c406582f",
   "metadata": {
    "collapsed": true
   },
   "outputs": [
    {
     "data": {
      "text/plain": [
       "array([[4.99999116e-01],\n",
       "       [5.49916225e-01],\n",
       "       [5.99334579e-01],\n",
       "       [6.47760405e-01],\n",
       "       [6.94709850e-01],\n",
       "       [7.39713809e-01],\n",
       "       [7.82322618e-01],\n",
       "       [8.22110545e-01],\n",
       "       [8.58680040e-01],\n",
       "       [8.91665714e-01],\n",
       "       [9.20737985e-01],\n",
       "       [9.45606372e-01],\n",
       "       [9.66022399e-01],\n",
       "       [9.81782075e-01],\n",
       "       [9.92727935e-01],\n",
       "       [9.98750612e-01],\n",
       "       [9.99789928e-01],\n",
       "       [9.95835500e-01],\n",
       "       [9.86926839e-01],\n",
       "       [9.73152957e-01],\n",
       "       [9.54651478e-01],\n",
       "       [9.31607263e-01],\n",
       "       [9.04250562e-01],\n",
       "       [8.72854714e-01],\n",
       "       [8.37733417e-01],\n",
       "       [7.99237589e-01],\n",
       "       [7.57751870e-01],\n",
       "       [7.13690771e-01],\n",
       "       [6.67494535e-01],\n",
       "       [6.19624741e-01],\n",
       "       [5.70559686e-01],\n",
       "       [5.20789614e-01],\n",
       "       [4.70811810e-01],\n",
       "       [4.21125636e-01],\n",
       "       [3.72227539e-01],\n",
       "       [3.24606094e-01],\n",
       "       [2.78737119e-01],\n",
       "       [2.35078919e-01],\n",
       "       [1.94067715e-01],\n",
       "       [1.56113277e-01],\n",
       "       [1.21594831e-01],\n",
       "       [9.08572769e-02],\n",
       "       [6.42077324e-02],\n",
       "       [4.19124713e-02],\n",
       "       [2.41942605e-02],\n",
       "       [1.12301346e-02],\n",
       "       [3.14962674e-03],\n",
       "       [3.34747619e-05],\n",
       "       [1.91281421e-03],\n",
       "       [8.76886734e-03],\n",
       "       [2.05331307e-02],\n",
       "       [3.70880598e-02],\n",
       "       [5.82682430e-02],\n",
       "       [8.38620552e-02],\n",
       "       [1.13613771e-01],\n",
       "       [1.47226122e-01],\n",
       "       [1.84363264e-01],\n",
       "       [2.24654135e-01],\n",
       "       [2.67696162e-01],\n",
       "       [3.13059283e-01],\n",
       "       [3.60290246e-01],\n",
       "       [4.08917133e-01],\n",
       "       [4.58454081e-01],\n",
       "       [5.08406134e-01],\n",
       "       [5.58274186e-01],\n",
       "       [6.07559973e-01],\n",
       "       [6.55771048e-01],\n",
       "       [7.02425701e-01],\n",
       "       [7.47057774e-01],\n",
       "       [7.89221319e-01],\n",
       "       [8.28495052e-01],\n",
       "       [8.64486561e-01],\n",
       "       [8.96836233e-01],\n",
       "       [9.25220839e-01],\n",
       "       [9.49356770e-01],\n",
       "       [9.69002868e-01],\n",
       "       [9.83962836e-01],\n",
       "       [9.94087198e-01],\n",
       "       [9.99274795e-01],\n",
       "       [9.99473795e-01],\n",
       "       [9.94682209e-01],\n",
       "       [9.84947913e-01],\n",
       "       [9.70368169e-01],\n",
       "       [9.51088653e-01],\n",
       "       [9.27301999e-01],\n",
       "       [8.99245876e-01],\n",
       "       [8.67200612e-01],\n",
       "       [8.31486391e-01],\n",
       "       [7.92460059e-01],\n",
       "       [7.50511555e-01],\n",
       "       [7.06060012e-01],\n",
       "       [6.59549578e-01],\n",
       "       [6.11444967e-01],\n",
       "       [5.62226827e-01],\n",
       "       [5.12386928e-01],\n",
       "       [4.62423254e-01],\n",
       "       [4.12835026e-01],\n",
       "       [3.64117712e-01],\n",
       "       [3.16758081e-01],\n",
       "       [2.71229333e-01],\n",
       "       [2.27986377e-01],\n",
       "       [1.87461283e-01],\n",
       "       [1.50058964e-01],\n",
       "       [1.16153131e-01],\n",
       "       [8.60825596e-02],\n",
       "       [6.01477060e-02],\n",
       "       [3.86077023e-02],\n",
       "       [2.16777691e-02],\n",
       "       [9.52706470e-03],\n",
       "       [2.27699490e-03],\n",
       "       [0.00000000e+00],\n",
       "       [2.71883099e-03],\n",
       "       [1.04063222e-02],\n",
       "       [2.29856628e-02],\n",
       "       [4.03311641e-02],\n",
       "       [6.22695157e-02],\n",
       "       [8.85815167e-02],\n",
       "       [1.19004266e-01],\n",
       "       [1.53233791e-01],\n",
       "       [1.90928079e-01],\n",
       "       [2.31710504e-01],\n",
       "       [2.75173579e-01],\n",
       "       [3.20883037e-01],\n",
       "       [3.68382164e-01],\n",
       "       [4.17196364e-01],\n",
       "       [4.66837901e-01],\n",
       "       [5.16810774e-01],\n",
       "       [5.66615671e-01],\n",
       "       [6.15754957e-01],\n",
       "       [6.63737650e-01],\n",
       "       [7.10084320e-01],\n",
       "       [7.54331889e-01],\n",
       "       [7.96038249e-01],\n",
       "       [8.34786684e-01],\n",
       "       [8.70190032e-01],\n",
       "       [9.01894555e-01],\n",
       "       [9.29583471e-01],\n",
       "       [9.52980122e-01],\n",
       "       [9.71850737e-01],\n",
       "       [9.86006767e-01],\n",
       "       [9.95306769e-01],\n",
       "       [9.99657820e-01],\n",
       "       [9.99016447e-01],\n",
       "       [9.93389058e-01],\n",
       "       [9.82831879e-01],\n",
       "       [9.67450395e-01],\n",
       "       [9.47398292e-01],\n",
       "       [9.22875925e-01],\n",
       "       [8.94128313e-01],\n",
       "       [8.61442691e-01],\n",
       "       [8.25145645e-01],\n",
       "       [7.85599843e-01],\n",
       "       [7.43200412e-01],\n",
       "       [6.98370994e-01],\n",
       "       [6.51559511e-01],\n",
       "       [6.03233685e-01],\n",
       "       [5.53876374e-01],\n",
       "       [5.03980740e-01],\n",
       "       [4.54045322e-01],\n",
       "       [4.04569059e-01],\n",
       "       [3.56046302e-01],\n",
       "       [3.08961874e-01],\n",
       "       [2.63786227e-01],\n",
       "       [2.20970741e-01],\n",
       "       [1.80943214e-01],\n",
       "       [1.44103589e-01],\n",
       "       [1.10819953e-01],\n",
       "       [8.14248677e-02],\n",
       "       [5.62120376e-02],\n",
       "       [3.54333813e-02],\n",
       "       [1.92965122e-02],\n",
       "       [7.96266464e-03],\n",
       "       [1.54508265e-03],\n",
       "       [1.07888605e-04],\n",
       "       [3.66544246e-03],\n",
       "       [1.21821983e-02],\n",
       "       [2.55730595e-02],\n",
       "       [4.37042291e-02],\n",
       "       [6.63945464e-02],\n",
       "       [9.34172971e-02],\n",
       "       [1.24502479e-01],\n",
       "       [1.59339499e-01],\n",
       "       [1.97580278e-01],\n",
       "       [2.38842725e-01],\n",
       "       [2.82714561e-01],\n",
       "       [3.28757432e-01],\n",
       "       [3.76511294e-01],\n",
       "       [4.25499005e-01],\n",
       "       [4.75231097e-01],\n",
       "       [5.25210662e-01],\n",
       "       [5.74938322e-01],\n",
       "       [6.23917214e-01],\n",
       "       [6.71657958e-01],\n",
       "       [7.17683543e-01],\n",
       "       [7.61534097e-01],\n",
       "       [8.02771481e-01],\n",
       "       [8.40983662e-01],\n",
       "       [8.75788839e-01],\n",
       "       [9.06839250e-01],\n",
       "       [9.33824648e-01],\n",
       "       [9.56475405e-01],\n",
       "       [9.74565201e-01],\n",
       "       [9.87913290e-01],\n",
       "       [9.96386302e-01],\n",
       "       [9.99899578e-01],\n",
       "       [9.98418013e-01],\n",
       "       [9.91956411e-01],\n",
       "       [9.80579335e-01],\n",
       "       [9.64400460e-01],\n",
       "       [9.43581440e-01],\n",
       "       [9.18330292e-01],\n",
       "       [8.88899318e-01],\n",
       "       [8.55582581e-01],\n",
       "       [8.18712972e-01],\n",
       "       [7.78658879e-01],\n",
       "       [7.35820510e-01],\n",
       "       [6.90625892e-01],\n",
       "       [6.43526593e-01],\n",
       "       [5.94993216e-01],\n",
       "       [5.45510689e-01],\n",
       "       [4.95573426e-01],\n",
       "       [4.45680382e-01],\n",
       "       [3.96330074e-01],\n",
       "       [3.48015592e-01],\n",
       "       [3.01219679e-01],\n",
       "       [2.56409905e-01],\n",
       "       [2.14033993e-01],\n",
       "       [1.74515351e-01],\n",
       "       [1.38248835e-01],\n",
       "       [1.05596808e-01],\n",
       "       [7.68855182e-02],\n",
       "       [5.24018399e-02],\n",
       "       [3.23904056e-02],\n",
       "       [1.70511630e-02],\n",
       "       [6.53737668e-03],\n",
       "       [9.54096943e-04],\n",
       "       [3.57110073e-04],\n",
       "       [4.75238097e-03],\n",
       "       [1.40959935e-02],\n",
       "       [2.82945895e-02],\n",
       "       [4.72063011e-02],\n",
       "       [7.06421689e-02],\n",
       "       [9.83680294e-02],\n",
       "       [1.30106855e-01],\n",
       "       [1.65541522e-01],\n",
       "       [2.04317978e-01],\n",
       "       [2.46048783e-01],\n",
       "       [2.90316975e-01],\n",
       "       [3.36680242e-01],\n",
       "       [3.84675337e-01],\n",
       "       [4.33822710e-01],\n",
       "       [4.83631295e-01],\n",
       "       [5.33603422e-01],\n",
       "       [5.83239786e-01],\n",
       "       [6.32044436e-01],\n",
       "       [6.79529734e-01],\n",
       "       [7.25221221e-01],\n",
       "       [7.68662363e-01],\n",
       "       [8.09419110e-01],\n",
       "       [8.47084236e-01],\n",
       "       [8.81281401e-01],\n",
       "       [9.11668920e-01],\n",
       "       [9.37943170e-01],\n",
       "       [9.59841629e-01],\n",
       "       [9.77145492e-01],\n",
       "       [9.89681867e-01],\n",
       "       [9.97325494e-01],\n",
       "       [1.00000000e+00],\n",
       "       [9.97678662e-01],\n",
       "       [9.90384675e-01],\n",
       "       [9.78190918e-01],\n",
       "       [9.61219226e-01],\n",
       "       [9.39639175e-01],\n",
       "       [9.13666386e-01],\n",
       "       [8.83560370e-01],\n",
       "       [8.49621938e-01],\n",
       "       [8.12190189e-01],\n",
       "       [7.71639131e-01],\n",
       "       [7.28373935e-01],\n",
       "       [6.82826893e-01],\n",
       "       [6.35453097e-01],\n",
       "       [5.86725890e-01],\n",
       "       [5.37132137e-01],\n",
       "       [4.87167363e-01],\n",
       "       [4.37330800e-01],\n",
       "       [3.88120398e-01],\n",
       "       [3.40027851e-01],\n",
       "       [2.93533684e-01],\n",
       "       [2.49102452e-01],\n",
       "       [2.07178096e-01],\n",
       "       [1.68179511e-01],\n",
       "       [1.32496358e-01],\n",
       "       [1.00485170e-01],\n",
       "       [7.24657944e-02],\n",
       "       [4.87181901e-02],\n",
       "       [2.94796357e-02],\n",
       "       [1.49423563e-02],\n",
       "       [5.25160379e-03],\n",
       "       [5.04204848e-04],\n",
       "       [7.47593943e-04],\n",
       "       [5.97933921e-03],\n",
       "       [1.61471668e-02],\n",
       "       [3.11494831e-02],\n",
       "       [5.08363900e-02],\n",
       "       [7.50111823e-02],\n",
       "       [1.03432314e-01],\n",
       "       [1.35815809e-01],\n",
       "       [1.71838104e-01],\n",
       "       [2.11139276e-01],\n",
       "       [2.53326639e-01],\n",
       "       [2.97978672e-01],\n",
       "       [3.44649227e-01],\n",
       "       [3.92871986e-01],\n",
       "       [4.42165124e-01],\n",
       "       [4.92036121e-01],\n",
       "       [5.41986681e-01],\n",
       "       [5.91517715e-01],\n",
       "       [6.40134325e-01],\n",
       "       [6.87350751e-01],\n",
       "       [7.32695222e-01],\n",
       "       [7.75714669e-01],\n",
       "       [8.15979258e-01],\n",
       "       [8.53086678e-01],\n",
       "       [8.86666164e-01],\n",
       "       [9.16382200e-01],\n",
       "       [9.41937874e-01],\n",
       "       [9.63077843e-01],\n",
       "       [9.79590881e-01],\n",
       "       [9.91311998e-01],\n",
       "       [9.98124078e-01],\n",
       "       [9.99959058e-01],\n",
       "       [9.96798604e-01],\n",
       "       [9.88674294e-01],\n",
       "       [9.75667303e-01],\n",
       "       [9.57907592e-01],\n",
       "       [9.35572612e-01],\n",
       "       [9.08885525e-01],\n",
       "       [8.78112980e-01],\n",
       "       [8.43562446e-01],\n",
       "       [8.05579141e-01],\n",
       "       [7.64542582e-01],\n",
       "       [7.20862792e-01],\n",
       "       [6.74976205e-01],\n",
       "       [6.27341304e-01],\n",
       "       [5.78434043e-01],\n",
       "       [5.28743086e-01],\n",
       "       [4.78764928e-01],\n",
       "       [4.28998936e-01],\n",
       "       [3.79942353e-01],\n",
       "       [3.32085339e-01],\n",
       "       [2.85906063e-01],\n",
       "       [2.41865934e-01],\n",
       "       [2.00404987e-01],\n",
       "       [1.61937485e-01],\n",
       "       [1.26847783e-01],\n",
       "       [9.54864865e-02],\n",
       "       [6.81669460e-02],\n",
       "       [4.51621298e-02],\n",
       "       [2.67018944e-02],\n",
       "       [1.29706884e-02],\n",
       "       [4.10570950e-03],\n",
       "       [1.95533568e-04],\n",
       "       [1.27922981e-03],\n",
       "       [7.34597031e-03],\n",
       "       [1.83351382e-02],\n",
       "       [3.41369333e-02],\n",
       "       [5.45934694e-02],\n",
       "       [7.95003514e-02],\n",
       "       [1.08608718e-01],\n",
       "       [1.41627728e-01],\n",
       "       [1.78227467e-01],\n",
       "       [2.18042242e-01],\n",
       "       [2.60674236e-01],\n",
       "       [3.05697486e-01],\n",
       "       [3.52662133e-01],\n",
       "       [4.01098922e-01],\n",
       "       [4.50523890e-01],\n",
       "       [5.00443198e-01],\n",
       "       [5.50358069e-01],\n",
       "       [5.99769769e-01],\n",
       "       [6.48184595e-01],\n",
       "       [6.95118799e-01],\n",
       "       [7.40103433e-01],\n",
       "       [7.82689024e-01],\n",
       "       [8.22450070e-01],\n",
       "       [8.58989293e-01],\n",
       "       [8.91941605e-01],\n",
       "       [9.20977757e-01],\n",
       "       [9.45807630e-01],\n",
       "       [9.66183132e-01],\n",
       "       [9.81900676e-01],\n",
       "       [9.92803220e-01],\n",
       "       [9.98781828e-01],\n",
       "       [9.99776764e-01],\n",
       "       [9.95778087e-01],\n",
       "       [9.86825751e-01],\n",
       "       [9.73009203e-01],\n",
       "       [9.54466495e-01],\n",
       "       [9.31382900e-01],\n",
       "       [9.03989060e-01],\n",
       "       [8.72558686e-01],\n",
       "       [8.37405820e-01],\n",
       "       [7.98881698e-01],\n",
       "       [7.57371240e-01],\n",
       "       [7.13289205e-01],\n",
       "       [6.67076045e-01],\n",
       "       [6.19193508e-01],\n",
       "       [5.70120021e-01],\n",
       "       [5.20345908e-01],\n",
       "       [4.70368497e-01],\n",
       "       [4.20687145e-01],\n",
       "       [3.71798252e-01],\n",
       "       [3.24190300e-01],\n",
       "       [2.78338972e-01],\n",
       "       [2.34702398e-01],\n",
       "       [1.93716581e-01],\n",
       "       [1.55791039e-01],\n",
       "       [1.21304709e-01],\n",
       "       [9.06021693e-02],\n",
       "       [6.39901882e-02],\n",
       "       [4.17346643e-02],\n",
       "       [2.40579672e-02],\n",
       "       [1.11367167e-02],\n",
       "       [3.10001778e-03],\n",
       "       [2.81703720e-05],\n",
       "       [1.95186738e-03],\n",
       "       [8.85188786e-03],\n",
       "       [2.06592891e-02],\n",
       "       [3.72560954e-02],\n",
       "       [5.84764771e-02],\n",
       "       [8.41084070e-02],\n",
       "       [1.13895779e-01],\n",
       "       [1.47540969e-01],\n",
       "       [1.84707803e-01],\n",
       "       [2.25024924e-01],\n",
       "       [2.68089497e-01],\n",
       "       [3.13471233e-01],\n",
       "       [3.60716695e-01],\n",
       "       [4.09353821e-01],\n",
       "       [4.58896644e-01],\n",
       "       [5.08850150e-01],\n",
       "       [5.58715219e-01],\n",
       "       [6.07993616e-01],\n",
       "       [6.56192968e-01],\n",
       "       [7.02831682e-01],\n",
       "       [7.47443761e-01],\n",
       "       [7.89583454e-01],\n",
       "       [8.28829716e-01],\n",
       "       [8.64790412e-01],\n",
       "       [8.97106234e-01],\n",
       "       [9.25454293e-01]])"
      ]
     },
     "execution_count": 22,
     "metadata": {},
     "output_type": "execute_result"
    }
   ],
   "source": [
    "# Que signifie ces valeurs? pour cela regardons nos données d'entraînment: scaled_train et voyons voir ce qui se passe ici lorqu'on dit à notre RNN\n",
    "#sachant qu'on a ces 4 points de données X ci-haut d'essayer de prédire la cinquième valeur de y ci-haut\n",
    "# on remarque les 2 premières valeurs de scaled_train sont 4.99 et 5.4\n",
    "# Etant donné cette taille de 4  prédit y dans le futur \n",
    "scaled_train"
   ]
  },
  {
   "cell_type": "code",
   "execution_count": 23,
   "id": "79fb3db5",
   "metadata": {},
   "outputs": [
    {
     "data": {
      "text/plain": [
       "<AxesSubplot:>"
      ]
     },
     "execution_count": 23,
     "metadata": {},
     "output_type": "execute_result"
    },
    {
     "data": {
      "image/png": "[encoded data removed]",
      "text/plain": [
       "<Figure size 432x288 with 1 Axes>"
      ]
     },
     "metadata": {
      "needs_background": "light"
     },
     "output_type": "display_data"
    }
   ],
   "source": [
    "df.plot()"
   ]
  },
  {
   "cell_type": "markdown",
   "id": "8935258a",
   "metadata": {},
   "source": [
    "# Création du modèle"
   ]
  },
  {
   "cell_type": "code",
   "execution_count": 24,
   "id": "0ef83463",
   "metadata": {},
   "outputs": [],
   "source": [
    "# S\"assurer d'avoir un cycle entier ou une saisonnalité complète et ainso prendre ce nombre de point  pour le paramètre length pour 1 batch\n",
    "# on sait qu'il y a 500 point entre 0 et 50\n",
    "# on voit graphiquement qu'un cycle va de 0 à une valeur légèrement > 5, il nous faut probablement entre 50et 100 points dans nos batchs. donc on fixe length:50\n",
    "length=50\n",
    "batch_size=1\n",
    "\n",
    "# création du generator\n",
    "generator=TimeseriesGenerator(scaled_train,scaled_train,length=length,batch_size=batch_size)"
   ]
  },
  {
   "cell_type": "code",
   "execution_count": 25,
   "id": "2ba41e6a",
   "metadata": {},
   "outputs": [],
   "source": [
    "# import des librairies\n",
    "from tensorflow.keras.models import Sequential\n",
    "from tensorflow.keras.layers import Dense,SimpleRNN,LSTM\n",
    "from tensorflow.keras.callbacks import EarlyStopping"
   ]
  },
  {
   "cell_type": "code",
   "execution_count": 26,
   "id": "9780452c",
   "metadata": {},
   "outputs": [],
   "source": [
    "# Fixation du nombre de features sur lequel nous allons entraîné\n",
    "# Dans ce cas on a seulement une seule feature X afin de prédire y\n",
    "n_features=1"
   ]
  },
  {
   "cell_type": "code",
   "execution_count": 27,
   "id": "08d46630",
   "metadata": {
    "collapsed": true
   },
   "outputs": [
    {
     "name": "stderr",
     "output_type": "stream",
     "text": [
      "2022-04-21 13:47:46.727491: W tensorflow/stream_executor/platform/default/dso_loader.cc:64] Could not load dynamic library 'libcuda.so.1'; dlerror: libcuda.so.1: cannot open shared object file: No such file or directory\n",
      "2022-04-21 13:47:46.727526: W tensorflow/stream_executor/cuda/cuda_driver.cc:269] failed call to cuInit: UNKNOWN ERROR (303)\n",
      "2022-04-21 13:47:46.727554: I tensorflow/stream_executor/cuda/cuda_diagnostics.cc:156] kernel driver does not appear to be running on this host (hprisser): /proc/driver/nvidia/version does not exist\n",
      "2022-04-21 13:47:46.727863: I tensorflow/core/platform/cpu_feature_guard.cc:151] This TensorFlow binary is optimized with oneAPI Deep Neural Network Library (oneDNN) to use the following CPU instructions in performance-critical operations:  AVX2 FMA\n",
      "To enable them in other operations, rebuild TensorFlow with the appropriate compiler flags.\n"
     ]
    }
   ],
   "source": [
    "# création du modèle\n",
    "# paramètre RNN à voir: units: nombre de neurone, input_shape:forme des données d'entrée définit par notre generator\n",
    "# le nombre de neurone qu'on souhaite passer doit être relié à longeur ou taille des batchs\n",
    "model= Sequential()\n",
    "model.add(SimpleRNN(50,input_shape=(length,n_features)))\n",
    "model.add(Dense(1))\n",
    "\n",
    "model.compile(optimizer='adam',loss='mse')\n"
   ]
  },
  {
   "cell_type": "code",
   "execution_count": 28,
   "id": "79e01428",
   "metadata": {},
   "outputs": [
    {
     "name": "stdout",
     "output_type": "stream",
     "text": [
      "Model: \"sequential\"\n",
      "_________________________________________________________________\n",
      " Layer (type)                Output Shape              Param #   \n",
      "=================================================================\n",
      " simple_rnn (SimpleRNN)      (None, 50)                2600      \n",
      "                                                                 \n",
      " dense (Dense)               (None, 1)                 51        \n",
      "                                                                 \n",
      "=================================================================\n",
      "Total params: 2,651\n",
      "Trainable params: 2,651\n",
      "Non-trainable params: 0\n",
      "_________________________________________________________________\n"
     ]
    }
   ],
   "source": [
    "# resumé du model qui nous permet de voir les différentes couches du modèle\n",
    "model.summary()"
   ]
  },
  {
   "cell_type": "code",
   "execution_count": 29,
   "id": "9472acaa",
   "metadata": {},
   "outputs": [
    {
     "name": "stdout",
     "output_type": "stream",
     "text": [
      "Epoch 1/5\n",
      "401/401 [==============================] - 4s 7ms/step - loss: 0.0195\n",
      "Epoch 2/5\n",
      "401/401 [==============================] - 3s 8ms/step - loss: 1.0820e-04\n",
      "Epoch 3/5\n",
      "401/401 [==============================] - 3s 6ms/step - loss: 2.4595e-04\n",
      "Epoch 4/5\n",
      "401/401 [==============================] - 3s 7ms/step - loss: 3.9477e-04\n",
      "Epoch 5/5\n",
      "401/401 [==============================] - 3s 8ms/step - loss: 3.9644e-05\n"
     ]
    },
    {
     "data": {
      "text/plain": [
       "<keras.callbacks.History at 0x7f6fcfd185b0>"
      ]
     },
     "execution_count": 29,
     "metadata": {},
     "output_type": "execute_result"
    }
   ],
   "source": [
    "# Entraînement du modèle: on passe le generator crée précédemment\n",
    "# les RNN prennent plus de temps à entraîner  qu'un ANN\n",
    "model.fit(generator,epochs=5)"
   ]
  },
  {
   "cell_type": "code",
   "execution_count": 30,
   "id": "2ec29d23",
   "metadata": {},
   "outputs": [
    {
     "data": {
      "text/plain": [
       "<AxesSubplot:>"
      ]
     },
     "execution_count": 30,
     "metadata": {},
     "output_type": "execute_result"
    },
    {
     "data": {
      "image/png": "[encoded data removed]",
      "text/plain": [
       "<Figure size 432x288 with 1 Axes>"
      ]
     },
     "metadata": {
      "needs_background": "light"
     },
     "output_type": "display_data"
    }
   ],
   "source": [
    "# Evaluation du model\n",
    "losses=pd.DataFrame(model.history.history)\n",
    "losses.plot()"
   ]
  },
  {
   "cell_type": "code",
   "execution_count": 31,
   "id": "ced08720",
   "metadata": {},
   "outputs": [],
   "source": [
    "# Pensons au 1er batch à passer dans le modèle pour prédire quelque chose sur le set de test\n",
    "# ce qu'on fait on prend les 50 derniers points du set d'entraînement pour prédire un point dans le futur qui est le premier du set de test\n",
    "firs_eval_batch=scaled_train[-length:]"
   ]
  },
  {
   "cell_type": "code",
   "execution_count": 32,
   "id": "902589ad",
   "metadata": {},
   "outputs": [],
   "source": [
    "# avant de passer cela dans le modèle il faut reshape à la forme attendue par le modèle\n",
    "firs_eval_batch=firs_eval_batch.reshape((1,length,n_features))\n"
   ]
  },
  {
   "cell_type": "code",
   "execution_count": 33,
   "id": "b42d5249",
   "metadata": {},
   "outputs": [
    {
     "data": {
      "text/plain": [
       "array([[0.94713104]], dtype=float32)"
      ]
     },
     "execution_count": 33,
     "metadata": {},
     "output_type": "execute_result"
    }
   ],
   "source": [
    "model.predict(firs_eval_batch)"
   ]
  },
  {
   "cell_type": "code",
   "execution_count": 34,
   "id": "2e861db1",
   "metadata": {},
   "outputs": [
    {
     "data": {
      "text/plain": [
       "array([0.94955134])"
      ]
     },
     "execution_count": 34,
     "metadata": {},
     "output_type": "execute_result"
    }
   ],
   "source": [
    "scaled_test[0]"
   ]
  },
  {
   "cell_type": "code",
   "execution_count": 35,
   "id": "e964a42c",
   "metadata": {},
   "outputs": [],
   "source": [
    "# utilisation de cette logique dans une boucle for pour toujours avoir 50 point et déplacer les séquences de 1 en 1\n",
    "# ainsi en mesure qu'in entraîne on continue d'ajouter un point prédit dans la séquence des 50 points du batch\n",
    "# création du liste de vide\n",
    "test_prediction=[]\n",
    "# premier batch d'évaluation\n",
    "first_eval_batch=scaled_train[-length:]\n",
    "# batch actuel\n",
    "current_batch=first_eval_batch.reshape((1,length,n_features))"
   ]
  },
  {
   "cell_type": "code",
   "execution_count": 36,
   "id": "986d0884",
   "metadata": {
    "collapsed": true
   },
   "outputs": [
    {
     "data": {
      "text/plain": [
       "array([[[8.37405820e-01],\n",
       "        [7.98881698e-01],\n",
       "        [7.57371240e-01],\n",
       "        [7.13289205e-01],\n",
       "        [6.67076045e-01],\n",
       "        [6.19193508e-01],\n",
       "        [5.70120021e-01],\n",
       "        [5.20345908e-01],\n",
       "        [4.70368497e-01],\n",
       "        [4.20687145e-01],\n",
       "        [3.71798252e-01],\n",
       "        [3.24190300e-01],\n",
       "        [2.78338972e-01],\n",
       "        [2.34702398e-01],\n",
       "        [1.93716581e-01],\n",
       "        [1.55791039e-01],\n",
       "        [1.21304709e-01],\n",
       "        [9.06021693e-02],\n",
       "        [6.39901882e-02],\n",
       "        [4.17346643e-02],\n",
       "        [2.40579672e-02],\n",
       "        [1.11367167e-02],\n",
       "        [3.10001778e-03],\n",
       "        [2.81703720e-05],\n",
       "        [1.95186738e-03],\n",
       "        [8.85188786e-03],\n",
       "        [2.06592891e-02],\n",
       "        [3.72560954e-02],\n",
       "        [5.84764771e-02],\n",
       "        [8.41084070e-02],\n",
       "        [1.13895779e-01],\n",
       "        [1.47540969e-01],\n",
       "        [1.84707803e-01],\n",
       "        [2.25024924e-01],\n",
       "        [2.68089497e-01],\n",
       "        [3.13471233e-01],\n",
       "        [3.60716695e-01],\n",
       "        [4.09353821e-01],\n",
       "        [4.58896644e-01],\n",
       "        [5.08850150e-01],\n",
       "        [5.58715219e-01],\n",
       "        [6.07993616e-01],\n",
       "        [6.56192968e-01],\n",
       "        [7.02831682e-01],\n",
       "        [7.47443761e-01],\n",
       "        [7.89583454e-01],\n",
       "        [8.28829716e-01],\n",
       "        [8.64790412e-01],\n",
       "        [8.97106234e-01],\n",
       "        [9.25454293e-01]]])"
      ]
     },
     "execution_count": 36,
     "metadata": {},
     "output_type": "execute_result"
    }
   ],
   "source": [
    "current_batch\n",
    "# triple crochets signifiant un tableau de dimension 3\n",
    "# le premier du batch doit être remplacé par mon dernier point prédit et ainsi de suite\n",
    "# la boucle for va retranscrire cela"
   ]
  },
  {
   "cell_type": "code",
   "execution_count": 37,
   "id": "06fd5273",
   "metadata": {
    "collapsed": true
   },
   "outputs": [
    {
     "data": {
      "text/plain": [
       "array([[[7.98881698e-01],\n",
       "        [7.57371240e-01],\n",
       "        [7.13289205e-01],\n",
       "        [6.67076045e-01],\n",
       "        [6.19193508e-01],\n",
       "        [5.70120021e-01],\n",
       "        [5.20345908e-01],\n",
       "        [4.70368497e-01],\n",
       "        [4.20687145e-01],\n",
       "        [3.71798252e-01],\n",
       "        [3.24190300e-01],\n",
       "        [2.78338972e-01],\n",
       "        [2.34702398e-01],\n",
       "        [1.93716581e-01],\n",
       "        [1.55791039e-01],\n",
       "        [1.21304709e-01],\n",
       "        [9.06021693e-02],\n",
       "        [6.39901882e-02],\n",
       "        [4.17346643e-02],\n",
       "        [2.40579672e-02],\n",
       "        [1.11367167e-02],\n",
       "        [3.10001778e-03],\n",
       "        [2.81703720e-05],\n",
       "        [1.95186738e-03],\n",
       "        [8.85188786e-03],\n",
       "        [2.06592891e-02],\n",
       "        [3.72560954e-02],\n",
       "        [5.84764771e-02],\n",
       "        [8.41084070e-02],\n",
       "        [1.13895779e-01],\n",
       "        [1.47540969e-01],\n",
       "        [1.84707803e-01],\n",
       "        [2.25024924e-01],\n",
       "        [2.68089497e-01],\n",
       "        [3.13471233e-01],\n",
       "        [3.60716695e-01],\n",
       "        [4.09353821e-01],\n",
       "        [4.58896644e-01],\n",
       "        [5.08850150e-01],\n",
       "        [5.58715219e-01],\n",
       "        [6.07993616e-01],\n",
       "        [6.56192968e-01],\n",
       "        [7.02831682e-01],\n",
       "        [7.47443761e-01],\n",
       "        [7.89583454e-01],\n",
       "        [8.28829716e-01],\n",
       "        [8.64790412e-01],\n",
       "        [8.97106234e-01],\n",
       "        [9.25454293e-01],\n",
       "        [9.90000000e+01]]])"
      ]
     },
     "execution_count": 37,
     "metadata": {},
     "output_type": "execute_result"
    }
   ],
   "source": [
    "predicted_value=[[[99]]]\n",
    "np.append(current_batch[:,1:,:],[[[99]]],axis=1)\n",
    "# cette commande décale les points d'une ligen de temps d'un pas temporel\n",
    "# ce qui signifie prend tout dans la 1ère dimension\n",
    "# première et dernière dimension on prend tout\n",
    "# pour la dimension intermédiaire, on prend tout à partir de l'index 1: tout sauf le 1 er point "
   ]
  },
  {
   "cell_type": "code",
   "execution_count": 38,
   "id": "4334c7d3",
   "metadata": {},
   "outputs": [],
   "source": [
    "# Création de la boucle for\n",
    "test_prediction=[]# on part d'une liste vide\n",
    "# premier batch d'évaluation\n",
    "first_eval_batch=scaled_train[-length:]# premier batch d'évaluation correspondant au 50 dernier point du batch d'entraînement\n",
    "# batch actuel\n",
    "current_batch=first_eval_batch.reshape((1,length,n_features))# transformation avec.reshape() basé sur la longeur length et le n_features et on assigne à current_batch\n",
    "\n",
    "for i in range(len(test)):\n",
    "  current_pred=model.predict(current_batch)[0]# première prédiction sur le bacth actuel\n",
    "  test_prediction.append(current_pred)# stockage de la prediction actuelle dans la liste test_prediction\n",
    "  current_batch = np.append(current_batch[:,1:,:],[[current_pred]],axis=1)# pour continer à prédire dans le futur, décalage du current_batch d'1 unité, qui se caractérise par la suppression de 1er point "
   ]
  },
  {
   "cell_type": "code",
   "execution_count": 39,
   "id": "650a82b9",
   "metadata": {
    "collapsed": true
   },
   "outputs": [
    {
     "data": {
      "text/plain": [
       "[array([0.94713104], dtype=float32),\n",
       " array([0.966925], dtype=float32),\n",
       " array([0.9819683], dtype=float32),\n",
       " array([0.9920069], dtype=float32),\n",
       " array([0.9968328], dtype=float32),\n",
       " array([0.99715126], dtype=float32),\n",
       " array([0.9921776], dtype=float32),\n",
       " array([0.98201966], dtype=float32),\n",
       " array([0.967883], dtype=float32),\n",
       " array([0.94835824], dtype=float32),\n",
       " array([0.9245471], dtype=float32),\n",
       " array([0.89592654], dtype=float32),\n",
       " array([0.8643925], dtype=float32),\n",
       " array([0.829441], dtype=float32),\n",
       " array([0.7916653], dtype=float32),\n",
       " array([0.7510318], dtype=float32),\n",
       " array([0.70785886], dtype=float32),\n",
       " array([0.6633828], dtype=float32),\n",
       " array([0.6173013], dtype=float32),\n",
       " array([0.5705603], dtype=float32),\n",
       " array([0.522652], dtype=float32),\n",
       " array([0.47464323], dtype=float32),\n",
       " array([0.42660713], dtype=float32),\n",
       " array([0.37991384], dtype=float32),\n",
       " array([0.33470386], dtype=float32),\n",
       " array([0.29105332], dtype=float32),\n",
       " array([0.24929829], dtype=float32),\n",
       " array([0.20996831], dtype=float32),\n",
       " array([0.17433253], dtype=float32),\n",
       " array([0.1423693], dtype=float32),\n",
       " array([0.11462197], dtype=float32),\n",
       " array([0.09027821], dtype=float32),\n",
       " array([0.06992842], dtype=float32),\n",
       " array([0.05399277], dtype=float32),\n",
       " array([0.04363586], dtype=float32),\n",
       " array([0.03769917], dtype=float32),\n",
       " array([0.03593415], dtype=float32),\n",
       " array([0.0378906], dtype=float32),\n",
       " array([0.04437992], dtype=float32),\n",
       " array([0.05577165], dtype=float32),\n",
       " array([0.07198876], dtype=float32),\n",
       " array([0.09233882], dtype=float32),\n",
       " array([0.11565621], dtype=float32),\n",
       " array([0.14263403], dtype=float32),\n",
       " array([0.17318952], dtype=float32),\n",
       " array([0.208508], dtype=float32),\n",
       " array([0.24636342], dtype=float32),\n",
       " array([0.2860364], dtype=float32),\n",
       " array([0.32620278], dtype=float32),\n",
       " array([0.36883897], dtype=float32)]"
      ]
     },
     "execution_count": 39,
     "metadata": {},
     "output_type": "execute_result"
    }
   ],
   "source": [
    "test_prediction"
   ]
  },
  {
   "cell_type": "code",
   "execution_count": 40,
   "id": "2e257f4a",
   "metadata": {
    "collapsed": true
   },
   "outputs": [
    {
     "data": {
      "text/plain": [
       "array([[9.49551344e-01],\n",
       "       [9.69156618e-01],\n",
       "       [9.84074225e-01],\n",
       "       [9.94155114e-01],\n",
       "       [9.99298559e-01],\n",
       "       [9.99453170e-01],\n",
       "       [9.94617400e-01],\n",
       "       [9.84839568e-01],\n",
       "       [9.70217371e-01],\n",
       "       [9.50896908e-01],\n",
       "       [9.27071224e-01],\n",
       "       [8.98978376e-01],\n",
       "       [8.66899060e-01],\n",
       "       [8.31153800e-01],\n",
       "       [7.92099752e-01],\n",
       "       [7.50127132e-01],\n",
       "       [7.05655314e-01],\n",
       "       [6.59128649e-01],\n",
       "       [6.11012013e-01],\n",
       "       [5.61786173e-01],\n",
       "       [5.11942978e-01],\n",
       "       [4.61980443e-01],\n",
       "       [4.12397778e-01],\n",
       "       [3.63690397e-01],\n",
       "       [3.16344967e-01],\n",
       "       [2.70834550e-01],\n",
       "       [2.27613868e-01],\n",
       "       [1.87114770e-01],\n",
       "       [1.49741909e-01],\n",
       "       [1.15868702e-01],\n",
       "       [8.58335998e-02],\n",
       "       [5.99367021e-02],\n",
       "       [3.84367625e-02],\n",
       "       [2.15486014e-02],\n",
       "       [9.44095974e-03],\n",
       "       [2.23481297e-03],\n",
       "       [2.16257798e-06],\n",
       "       [2.76531647e-03],\n",
       "       [1.04966661e-02],\n",
       "       [2.31189624e-02],\n",
       "       [4.05060876e-02],\n",
       "       [6.24843152e-02],\n",
       "       [8.88340461e-02],\n",
       "       [1.19292002e-01],\n",
       "       [1.53553858e-01],\n",
       "       [1.91277281e-01],\n",
       "       [2.32085350e-01],\n",
       "       [2.75570325e-01],\n",
       "       [3.21297718e-01],\n",
       "       [3.68810636e-01]])"
      ]
     },
     "execution_count": 40,
     "metadata": {},
     "output_type": "execute_result"
    }
   ],
   "source": [
    "scaled_test"
   ]
  },
  {
   "cell_type": "code",
   "execution_count": 41,
   "id": "72197a41",
   "metadata": {},
   "outputs": [],
   "source": [
    "# faire la transformation inverse des prédictions afin de les avoir sans échelle\n",
    "true_prediction=scaler.inverse_transform(test_prediction)"
   ]
  },
  {
   "cell_type": "code",
   "execution_count": 42,
   "id": "5a340040",
   "metadata": {
    "collapsed": true
   },
   "outputs": [
    {
     "name": "stderr",
     "output_type": "stream",
     "text": [
      "/tmp/ipykernel_194399/1659957716.py:2: SettingWithCopyWarning: \n",
      "A value is trying to be set on a copy of a slice from a DataFrame.\n",
      "Try using .loc[row_indexer,col_indexer] = value instead\n",
      "\n",
      "See the caveats in the documentation: https://pandas.pydata.org/pandas-docs/stable/user_guide/indexing.html#returning-a-view-versus-a-copy\n",
      "  test['pred']=true_prediction\n"
     ]
    }
   ],
   "source": [
    "# pour comparer on ava ajouter une seconde colonne à notre dataframe test qui contient les prédictions\n",
    "test['pred']=true_prediction"
   ]
  },
  {
   "cell_type": "code",
   "execution_count": 43,
   "id": "5c83ddbc",
   "metadata": {},
   "outputs": [
    {
     "data": {
      "text/plain": [
       "<AxesSubplot:>"
      ]
     },
     "execution_count": 43,
     "metadata": {},
     "output_type": "execute_result"
    },
    {
     "data": {
      "image/png": "[encoded data removed]",
      "text/plain": [
       "<Figure size 864x576 with 1 Axes>"
      ]
     },
     "metadata": {
      "needs_background": "light"
     },
     "output_type": "display_data"
    }
   ],
   "source": [
    "test.plot(figsize=(12,8),)\n",
    "# notre modèle est capable de mimer une onde sinusoidale\n",
    "# Plus on avance dans la prédiction, plus nos prédictions sont éloignés, normal car on prédit à partir des valeurs elles mêmes prédites\n",
    "# le premier point devrait être le plus précis car on utilise des données réelles cad les 50 points pr&écésents dans le set d'entraînement pour prédire\n",
    "# ce premier point puis en passant au point suivant j'utilise 49 points réelles du set d'entraînement et le 1 er point prédit pour faire\n",
    "# cette deuxième prédiction\n",
    "# a la fin il restera 49 point de preidction et 1 donnée d'orignie du set d'entraînement"
   ]
  },
  {
   "cell_type": "markdown",
   "id": "8638f4c0",
   "metadata": {},
   "source": [
    "# Partie 2.  implémentation LSTM et prévisions\n",
    "Utilisation du réseau LSTM\n",
    "  - Création de 2 générateurs: un pour les données d'entraînement et un pour les données de validation\n",
    "  - generator de validation va continuer à tester sur la gamme d'entraînement pendant que l'on prédit\n"
   ]
  },
  {
   "cell_type": "code",
   "execution_count": 44,
   "id": "fdc1f3fc",
   "metadata": {},
   "outputs": [],
   "source": [
    "# création d'un mécanisme d'arrêt anticipé\n",
    "from tensorflow.keras.callbacks import EarlyStopping\n",
    "early_stop= EarlyStopping(monitor='val_loss', patience=2)"
   ]
  },
  {
   "cell_type": "code",
   "execution_count": 45,
   "id": "76205f5c",
   "metadata": {},
   "outputs": [],
   "source": [
    "# création du générateur pour les donneés de validation\n",
    "length=49\n",
    "generator=TimeseriesGenerator(scaled_train,scaled_train,length=length,batch_size=1)# generator d'entrâinement\n",
    "validation_generator=TimeseriesGenerator(scaled_test,scaled_test, length=length,batch_size=1)"
   ]
  },
  {
   "cell_type": "raw",
   "id": "db18a6da",
   "metadata": {},
   "source": [
    " prendre 49 points et prédire le point 50 et techniquement on vérifie l'exactitude sur l'un de ces points de part la proximité de set de test ed length"
   ]
  },
  {
   "cell_type": "code",
   "execution_count": 46,
   "id": "11feab7b",
   "metadata": {},
   "outputs": [],
   "source": [
    "# création du modèle LSTM\n",
    "model= Sequential()\n",
    "model.add(LSTM(50,input_shape=(length,n_features)))\n",
    "model.add(Dense(1))\n",
    "\n",
    "model.compile(optimizer='adam',loss='mse')"
   ]
  },
  {
   "cell_type": "code",
   "execution_count": 47,
   "id": "d04ab8e3",
   "metadata": {},
   "outputs": [
    {
     "name": "stdout",
     "output_type": "stream",
     "text": [
      "Model: \"sequential_1\"\n",
      "_________________________________________________________________\n",
      " Layer (type)                Output Shape              Param #   \n",
      "=================================================================\n",
      " lstm (LSTM)                 (None, 50)                10400     \n",
      "                                                                 \n",
      " dense_1 (Dense)             (None, 1)                 51        \n",
      "                                                                 \n",
      "=================================================================\n",
      "Total params: 10,451\n",
      "Trainable params: 10,451\n",
      "Non-trainable params: 0\n",
      "_________________________________________________________________\n"
     ]
    }
   ],
   "source": [
    "model.summary()"
   ]
  },
  {
   "cell_type": "code",
   "execution_count": 48,
   "id": "977f4911",
   "metadata": {},
   "outputs": [
    {
     "name": "stdout",
     "output_type": "stream",
     "text": [
      "Epoch 1/20\n",
      "402/402 [==============================] - 8s 17ms/step - loss: 0.0184 - val_loss: 1.9369e-05\n",
      "Epoch 2/20\n",
      "402/402 [==============================] - 5s 13ms/step - loss: 1.4058e-04 - val_loss: 4.7479e-06\n",
      "Epoch 3/20\n",
      "402/402 [==============================] - 6s 15ms/step - loss: 4.3484e-05 - val_loss: 8.1928e-06\n",
      "Epoch 4/20\n",
      "402/402 [==============================] - 6s 15ms/step - loss: 8.0913e-05 - val_loss: 6.2458e-06\n"
     ]
    },
    {
     "data": {
      "text/plain": [
       "<keras.callbacks.History at 0x7f6fb46db8e0>"
      ]
     },
     "execution_count": 48,
     "metadata": {},
     "output_type": "execute_result"
    }
   ],
   "source": [
    "model.fit(generator,epochs=20,validation_data=validation_generator, callbacks=[early_stop])"
   ]
  },
  {
   "cell_type": "code",
   "execution_count": 49,
   "id": "2b159866",
   "metadata": {},
   "outputs": [],
   "source": [
    "#Evaluation des performances sur le set de test\n",
    "# Création de la boucle for\n",
    "test_prediction=[]# on part d'une liste vide\n",
    "# premier batch d'évaluation\n",
    "first_eval_batch=scaled_train[-length:]# premier batch d'évaluation correspondant au 50 dernier point du batch d'entraînement\n",
    "# batch actuel\n",
    "current_batch=first_eval_batch.reshape((1,length,n_features))# transformation avec.reshape() basé sur la longeur length et le n_features et on assigne à current_batch\n",
    "\n",
    "for i in range(len(test)):\n",
    "  current_pred=model.predict(current_batch)[0]# première prédiction sur le bacth actuel\n",
    "  test_prediction.append(current_pred)# stockage de la prediction actuelle dans la liste test_prediction\n",
    "  current_batch = np.append(current_batch[:,1:,:],[[current_pred]],axis=1)# pour continer à prédire dans le futur, décalage du current_batch d'1 unité, qui se caractérise par la suppression de 1er point "
   ]
  },
  {
   "cell_type": "code",
   "execution_count": 50,
   "id": "6c06f011",
   "metadata": {},
   "outputs": [],
   "source": [
    "# Faire la transformation inverse \n",
    "true_prediction=scaler.inverse_transform(test_prediction)"
   ]
  },
  {
   "cell_type": "code",
   "execution_count": 51,
   "id": "21ff1697",
   "metadata": {
    "collapsed": true
   },
   "outputs": [
    {
     "name": "stderr",
     "output_type": "stream",
     "text": [
      "/tmp/ipykernel_194399/414494296.py:2: SettingWithCopyWarning: \n",
      "A value is trying to be set on a copy of a slice from a DataFrame.\n",
      "Try using .loc[row_indexer,col_indexer] = value instead\n",
      "\n",
      "See the caveats in the documentation: https://pandas.pydata.org/pandas-docs/stable/user_guide/indexing.html#returning-a-view-versus-a-copy\n",
      "  test['LSTM_Pred']=true_prediction\n"
     ]
    }
   ],
   "source": [
    "# ajoute une nouvelle colonne au dataframe pour faire la comparaison\n",
    "test['LSTM_Pred']=true_prediction"
   ]
  },
  {
   "cell_type": "code",
   "execution_count": 52,
   "id": "f6c79e7d",
   "metadata": {},
   "outputs": [
    {
     "data": {
      "text/plain": [
       "<AxesSubplot:>"
      ]
     },
     "execution_count": 52,
     "metadata": {},
     "output_type": "execute_result"
    },
    {
     "data": {
      "image/png": "[encoded data removed]",
      "text/plain": [
       "<Figure size 864x576 with 1 Axes>"
      ]
     },
     "metadata": {
      "needs_background": "light"
     },
     "output_type": "display_data"
    }
   ],
   "source": [
    "# Traçage de la courbe\n",
    "test.plot(figsize=(12,8))\n",
    "# la courbe verte LSRM a tendance à bien performer à la fin"
   ]
  },
  {
   "cell_type": "code",
   "execution_count": 53,
   "id": "35944f61",
   "metadata": {},
   "outputs": [
    {
     "data": {
      "text/plain": [
       "<AxesSubplot:>"
      ]
     },
     "execution_count": 53,
     "metadata": {},
     "output_type": "execute_result"
    },
    {
     "data": {
      "image/png": "[encoded data removed]",
      "text/plain": [
       "<Figure size 432x288 with 1 Axes>"
      ]
     },
     "metadata": {
      "needs_background": "light"
     },
     "output_type": "display_data"
    }
   ],
   "source": [
    "# Faire une prédiction au dela de l'index 50\n",
    "df.plot()"
   ]
  },
  {
   "cell_type": "markdown",
   "id": "09b82289",
   "metadata": {},
   "source": [
    "Pour faire la prédiction au dela de l'index 50:\n",
    "  - on va réentrainer sur toutes les données \n",
    "  - on met à l'échelle toute nos données"
   ]
  },
  {
   "cell_type": "code",
   "execution_count": 54,
   "id": "82d474c3",
   "metadata": {},
   "outputs": [],
   "source": [
    "full_scaler=MinMaxScaler()\n",
    "scaler_full_data=full_scaler.fit_transform(df)"
   ]
  },
  {
   "cell_type": "code",
   "execution_count": 55,
   "id": "a70eb061",
   "metadata": {},
   "outputs": [
    {
     "name": "stdout",
     "output_type": "stream",
     "text": [
      "Epoch 1/5\n",
      "452/452 [==============================] - 8s 15ms/step - loss: 0.0174\n",
      "Epoch 2/5\n",
      "452/452 [==============================] - 7s 15ms/step - loss: 9.0379e-05\n",
      "Epoch 3/5\n",
      "452/452 [==============================] - 6s 14ms/step - loss: 1.4004e-04\n",
      "Epoch 4/5\n",
      "452/452 [==============================] - 7s 15ms/step - loss: 1.6631e-04\n",
      "Epoch 5/5\n",
      "452/452 [==============================] - 7s 15ms/step - loss: 6.3574e-04\n"
     ]
    },
    {
     "data": {
      "text/plain": [
       "<keras.callbacks.History at 0x7f6f9a68c7c0>"
      ]
     },
     "execution_count": 55,
     "metadata": {},
     "output_type": "execute_result"
    }
   ],
   "source": [
    "# création du generator du df\n",
    "generator_full=TimeseriesGenerator(scaler_full_data,scaler_full_data,length=length,batch_size=1)\n",
    "model= Sequential()\n",
    "model.add(LSTM(50,input_shape=(length,n_features)))\n",
    "model.add(Dense(1))\n",
    "\n",
    "model.compile(optimizer='adam',loss='mse')\n",
    "model.fit(generator_full,epochs=5)"
   ]
  },
  {
   "cell_type": "code",
   "execution_count": 56,
   "id": "f344cdc8",
   "metadata": {},
   "outputs": [],
   "source": [
    "#Evaluation des performances sur le set de test\n",
    "# aucun moyen de comparer ces prédictions car elles sont dans le futur\n",
    "# Création de la boucle for\n",
    "forecast=[]# on part d'une liste vide\n",
    "# premier batch d'évaluation\n",
    "first_eval_batch=scaled_train[-length:]# premier batch d'évaluation correspondant au 50 dernier point du batch d'entraînement\n",
    "# batch actuel\n",
    "current_batch=first_eval_batch.reshape((1,length,n_features))# transformation avec.reshape() basé sur la longeur length et le n_features et on assigne à current_batch\n",
    "\n",
    "for i in range(25):\n",
    "  current_pred=model.predict(current_batch)[0]# première prédiction sur le bacth actuel\n",
    "  forecast.append(current_pred)# stockage de la prediction actuelle dans la liste test_prediction\n",
    "  current_batch = np.append(current_batch[:,1:,:],[[current_pred]],axis=1)# pour continer à prédire dans le futur, décalage du current_batch d'1 unité, qui se caractérise par la suppression de 1er point "
   ]
  },
  {
   "cell_type": "code",
   "execution_count": 57,
   "id": "adbd94fc",
   "metadata": {},
   "outputs": [],
   "source": [
    "from numpy.core.numeric import full\n",
    "# Faire la transformation inverse \n",
    "forecast=full_scaler.inverse_transform(test_prediction)"
   ]
  },
  {
   "cell_type": "code",
   "execution_count": 58,
   "id": "599d570a",
   "metadata": {},
   "outputs": [
    {
     "data": {
      "text/plain": [
       "2.5"
      ]
     },
     "execution_count": 58,
     "metadata": {},
     "output_type": "execute_result"
    }
   ],
   "source": [
    "# pour obtenir la valeur à reseigner dans forecas_index\n",
    "25*0.1\n"
   ]
  },
  {
   "cell_type": "code",
   "execution_count": 59,
   "id": "477d368d",
   "metadata": {},
   "outputs": [],
   "source": [
    "forecast_index=np.arange(50.1,52.6,step=0.1)"
   ]
  },
  {
   "cell_type": "code",
   "execution_count": 60,
   "id": "7f7a4d32",
   "metadata": {},
   "outputs": [
    {
     "data": {
      "text/plain": [
       "25"
      ]
     },
     "execution_count": 60,
     "metadata": {},
     "output_type": "execute_result"
    }
   ],
   "source": [
    "len(forecast_index)"
   ]
  },
  {
   "cell_type": "code",
   "execution_count": 61,
   "id": "8eebe1b6",
   "metadata": {},
   "outputs": [
    {
     "data": {
      "text/plain": [
       "[<matplotlib.lines.Line2D at 0x7f6f9a58adc0>]"
      ]
     },
     "execution_count": 61,
     "metadata": {},
     "output_type": "execute_result"
    },
    {
     "data": {
      "image/png": "[encoded data removed]",
      "text/plain": [
       "<Figure size 432x288 with 1 Axes>"
      ]
     },
     "metadata": {
      "needs_background": "light"
     },
     "output_type": "display_data"
    }
   ],
   "source": [
    "# tracage données d'origine\n",
    "plt.plot(df.index,df['Sinus'])"
   ]
  },
  {
   "cell_type": "code",
   "execution_count": null,
   "id": "979f14ea",
   "metadata": {},
   "outputs": [],
   "source": []
  }
 ],
 "metadata": {
  "kernelspec": {
   "display_name": "Python 3 (ipykernel)",
   "language": "python",
   "name": "python3"
  },
  "language_info": {
   "codemirror_mode": {
    "name": "ipython",
    "version": 3
   },
   "file_extension": ".py",
   "mimetype": "text/x-python",
   "name": "python",
   "nbconvert_exporter": "python",
   "pygments_lexer": "ipython3",
   "version": "3.9.7"
  }
 },
 "nbformat": 4,
 "nbformat_minor": 5
}
